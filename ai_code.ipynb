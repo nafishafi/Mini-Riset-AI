{
  "nbformat": 4,
  "nbformat_minor": 0,
  "metadata": {
    "colab": {
      "provenance": []
    },
    "kernelspec": {
      "name": "python3",
      "display_name": "Python 3"
    },
    "language_info": {
      "name": "python"
    }
  },
  "cells": [
    {
      "cell_type": "code",
      "execution_count": null,
      "metadata": {
        "id": "6mc51MLb9Alz"
      },
      "outputs": [],
      "source": [
        "import pandas as pd # manipulasi dan analisis data\n",
        "import numpy as np # mengolah dan memanipulasi data dalam bentuk array\n",
        "import matplotlib.pyplot as plt # Digunakan untuk membuat visualisasi data dalam bentuk grafik, plot, dan diagram\n",
        "import seaborn as sns # untuk membuat visualisasi data statistik yang menarik dan informatif\n",
        "\n",
        "import warnings\n",
        "warnings.filterwarnings('ignore') # untuk mengabaikan peringatan yang mungkin muncul.\n",
        "\n",
        "import re, string # re =  digunakan untuk pencocokan pola teks. Dalam konteks ini, mungkin digunakan untuk membersihkan atau memanipulasi teks.\n",
        "                  #  string = menyediakan berbagai konstanta dan fungsi yang berguna untuk manipulasi string.\n",
        "import nltk # menyediakan berbagai alat dan sumber daya untuk analisis teks, seperti tokenisasi, lemmatisasi, dan berbagai algoritma NLP\n",
        "from nltk.stem import SnowballStemmer #  mengubah kata-kata menjadi bentuk dasarnya\n",
        "\n",
        "# skylearn = Library yang menyediakan algoritma pembelajaran mesin dan alat untuk analisis data.\n",
        "from sklearn.model_selection import train_test_split #  membagi dataset menjadi dua bagian (Training dan test)\n",
        "from sklearn.feature_extraction.text import TfidfVectorizer # TF-IDF\n",
        "\n",
        "\n",
        "# mengimpor beberapa model seperti svm, naivebayes\n",
        "from sklearn.metrics import classification_report # digunakan untuk menghasilkan laporan klasifikasi yang mendetail, yang berisi berbagai metrik evaluasi seperti presisi (precision), recall, nilai F1, dan dukungan (support) untuk setiap kelas.\n"
      ]
    },
    {
      "cell_type": "code",
      "source": [
        "data_news = pd.read_csv('/dataset/fake_news_covid19_dummy.csv') # metode pandas untuk membaca file CSV\n",
        "data_news.head() # digunakan untuk menampilkan lima baris pertama dari dataframe"
      ],
      "metadata": {
        "colab": {
          "base_uri": "https://localhost:8080/",
          "height": 206
        },
        "id": "4OGuFXVb9iaW",
        "outputId": "1936aa8e-4370-47ec-faf8-177704021c11"
      },
      "execution_count": null,
      "outputs": [
        {
          "output_type": "execute_result",
          "data": {
            "text/plain": [
              "                                               Title  \\\n",
              "0  Latest Development of COVID-19 Pandemic in Ind...   \n",
              "1  Measures to Prevent COVID-19 in the Work Envir...   \n",
              "2  Psychological Impact of Self-Isolation Due to ...   \n",
              "3  Economic Recovery Strategy after COVID-19 Pand...   \n",
              "4  Effectiveness of the COVID-19 Vaccine in Suppr...   \n",
              "\n",
              "                                             Content         Source Label  \n",
              "0  COVID-19 cases in Indonesia have shown a decli...  CNN Indonesia  real  \n",
              "1  Companies are required to implement distancing...      DetikNews  fake  \n",
              "2  Self-isolation during the pandemic can lead to...       Facebook  real  \n",
              "3  The government has developed a comprehensive s...        Twitter  real  \n",
              "4  Studies have shown that the approved COVID-19 ...      Instagram  real  "
            ],
            "text/html": [
              "\n",
              "  <div id=\"df-a5dfbeae-91a8-4f09-b8b0-0e28be033b21\" class=\"colab-df-container\">\n",
              "    <div>\n",
              "<style scoped>\n",
              "    .dataframe tbody tr th:only-of-type {\n",
              "        vertical-align: middle;\n",
              "    }\n",
              "\n",
              "    .dataframe tbody tr th {\n",
              "        vertical-align: top;\n",
              "    }\n",
              "\n",
              "    .dataframe thead th {\n",
              "        text-align: right;\n",
              "    }\n",
              "</style>\n",
              "<table border=\"1\" class=\"dataframe\">\n",
              "  <thead>\n",
              "    <tr style=\"text-align: right;\">\n",
              "      <th></th>\n",
              "      <th>Title</th>\n",
              "      <th>Content</th>\n",
              "      <th>Source</th>\n",
              "      <th>Label</th>\n",
              "    </tr>\n",
              "  </thead>\n",
              "  <tbody>\n",
              "    <tr>\n",
              "      <th>0</th>\n",
              "      <td>Latest Development of COVID-19 Pandemic in Ind...</td>\n",
              "      <td>COVID-19 cases in Indonesia have shown a decli...</td>\n",
              "      <td>CNN Indonesia</td>\n",
              "      <td>real</td>\n",
              "    </tr>\n",
              "    <tr>\n",
              "      <th>1</th>\n",
              "      <td>Measures to Prevent COVID-19 in the Work Envir...</td>\n",
              "      <td>Companies are required to implement distancing...</td>\n",
              "      <td>DetikNews</td>\n",
              "      <td>fake</td>\n",
              "    </tr>\n",
              "    <tr>\n",
              "      <th>2</th>\n",
              "      <td>Psychological Impact of Self-Isolation Due to ...</td>\n",
              "      <td>Self-isolation during the pandemic can lead to...</td>\n",
              "      <td>Facebook</td>\n",
              "      <td>real</td>\n",
              "    </tr>\n",
              "    <tr>\n",
              "      <th>3</th>\n",
              "      <td>Economic Recovery Strategy after COVID-19 Pand...</td>\n",
              "      <td>The government has developed a comprehensive s...</td>\n",
              "      <td>Twitter</td>\n",
              "      <td>real</td>\n",
              "    </tr>\n",
              "    <tr>\n",
              "      <th>4</th>\n",
              "      <td>Effectiveness of the COVID-19 Vaccine in Suppr...</td>\n",
              "      <td>Studies have shown that the approved COVID-19 ...</td>\n",
              "      <td>Instagram</td>\n",
              "      <td>real</td>\n",
              "    </tr>\n",
              "  </tbody>\n",
              "</table>\n",
              "</div>\n",
              "    <div class=\"colab-df-buttons\">\n",
              "\n",
              "  <div class=\"colab-df-container\">\n",
              "    <button class=\"colab-df-convert\" onclick=\"convertToInteractive('df-a5dfbeae-91a8-4f09-b8b0-0e28be033b21')\"\n",
              "            title=\"Convert this dataframe to an interactive table.\"\n",
              "            style=\"display:none;\">\n",
              "\n",
              "  <svg xmlns=\"http://www.w3.org/2000/svg\" height=\"24px\" viewBox=\"0 -960 960 960\">\n",
              "    <path d=\"M120-120v-720h720v720H120Zm60-500h600v-160H180v160Zm220 220h160v-160H400v160Zm0 220h160v-160H400v160ZM180-400h160v-160H180v160Zm440 0h160v-160H620v160ZM180-180h160v-160H180v160Zm440 0h160v-160H620v160Z\"/>\n",
              "  </svg>\n",
              "    </button>\n",
              "\n",
              "  <style>\n",
              "    .colab-df-container {\n",
              "      display:flex;\n",
              "      gap: 12px;\n",
              "    }\n",
              "\n",
              "    .colab-df-convert {\n",
              "      background-color: #E8F0FE;\n",
              "      border: none;\n",
              "      border-radius: 50%;\n",
              "      cursor: pointer;\n",
              "      display: none;\n",
              "      fill: #1967D2;\n",
              "      height: 32px;\n",
              "      padding: 0 0 0 0;\n",
              "      width: 32px;\n",
              "    }\n",
              "\n",
              "    .colab-df-convert:hover {\n",
              "      background-color: #E2EBFA;\n",
              "      box-shadow: 0px 1px 2px rgba(60, 64, 67, 0.3), 0px 1px 3px 1px rgba(60, 64, 67, 0.15);\n",
              "      fill: #174EA6;\n",
              "    }\n",
              "\n",
              "    .colab-df-buttons div {\n",
              "      margin-bottom: 4px;\n",
              "    }\n",
              "\n",
              "    [theme=dark] .colab-df-convert {\n",
              "      background-color: #3B4455;\n",
              "      fill: #D2E3FC;\n",
              "    }\n",
              "\n",
              "    [theme=dark] .colab-df-convert:hover {\n",
              "      background-color: #434B5C;\n",
              "      box-shadow: 0px 1px 3px 1px rgba(0, 0, 0, 0.15);\n",
              "      filter: drop-shadow(0px 1px 2px rgba(0, 0, 0, 0.3));\n",
              "      fill: #FFFFFF;\n",
              "    }\n",
              "  </style>\n",
              "\n",
              "    <script>\n",
              "      const buttonEl =\n",
              "        document.querySelector('#df-a5dfbeae-91a8-4f09-b8b0-0e28be033b21 button.colab-df-convert');\n",
              "      buttonEl.style.display =\n",
              "        google.colab.kernel.accessAllowed ? 'block' : 'none';\n",
              "\n",
              "      async function convertToInteractive(key) {\n",
              "        const element = document.querySelector('#df-a5dfbeae-91a8-4f09-b8b0-0e28be033b21');\n",
              "        const dataTable =\n",
              "          await google.colab.kernel.invokeFunction('convertToInteractive',\n",
              "                                                    [key], {});\n",
              "        if (!dataTable) return;\n",
              "\n",
              "        const docLinkHtml = 'Like what you see? Visit the ' +\n",
              "          '<a target=\"_blank\" href=https://colab.research.google.com/notebooks/data_table.ipynb>data table notebook</a>'\n",
              "          + ' to learn more about interactive tables.';\n",
              "        element.innerHTML = '';\n",
              "        dataTable['output_type'] = 'display_data';\n",
              "        await google.colab.output.renderOutput(dataTable, element);\n",
              "        const docLink = document.createElement('div');\n",
              "        docLink.innerHTML = docLinkHtml;\n",
              "        element.appendChild(docLink);\n",
              "      }\n",
              "    </script>\n",
              "  </div>\n",
              "\n",
              "\n",
              "<div id=\"df-ee6ab7f7-6e55-4cbd-acd3-bab2010125cc\">\n",
              "  <button class=\"colab-df-quickchart\" onclick=\"quickchart('df-ee6ab7f7-6e55-4cbd-acd3-bab2010125cc')\"\n",
              "            title=\"Suggest charts\"\n",
              "            style=\"display:none;\">\n",
              "\n",
              "<svg xmlns=\"http://www.w3.org/2000/svg\" height=\"24px\"viewBox=\"0 0 24 24\"\n",
              "     width=\"24px\">\n",
              "    <g>\n",
              "        <path d=\"M19 3H5c-1.1 0-2 .9-2 2v14c0 1.1.9 2 2 2h14c1.1 0 2-.9 2-2V5c0-1.1-.9-2-2-2zM9 17H7v-7h2v7zm4 0h-2V7h2v10zm4 0h-2v-4h2v4z\"/>\n",
              "    </g>\n",
              "</svg>\n",
              "  </button>\n",
              "\n",
              "<style>\n",
              "  .colab-df-quickchart {\n",
              "      --bg-color: #E8F0FE;\n",
              "      --fill-color: #1967D2;\n",
              "      --hover-bg-color: #E2EBFA;\n",
              "      --hover-fill-color: #174EA6;\n",
              "      --disabled-fill-color: #AAA;\n",
              "      --disabled-bg-color: #DDD;\n",
              "  }\n",
              "\n",
              "  [theme=dark] .colab-df-quickchart {\n",
              "      --bg-color: #3B4455;\n",
              "      --fill-color: #D2E3FC;\n",
              "      --hover-bg-color: #434B5C;\n",
              "      --hover-fill-color: #FFFFFF;\n",
              "      --disabled-bg-color: #3B4455;\n",
              "      --disabled-fill-color: #666;\n",
              "  }\n",
              "\n",
              "  .colab-df-quickchart {\n",
              "    background-color: var(--bg-color);\n",
              "    border: none;\n",
              "    border-radius: 50%;\n",
              "    cursor: pointer;\n",
              "    display: none;\n",
              "    fill: var(--fill-color);\n",
              "    height: 32px;\n",
              "    padding: 0;\n",
              "    width: 32px;\n",
              "  }\n",
              "\n",
              "  .colab-df-quickchart:hover {\n",
              "    background-color: var(--hover-bg-color);\n",
              "    box-shadow: 0 1px 2px rgba(60, 64, 67, 0.3), 0 1px 3px 1px rgba(60, 64, 67, 0.15);\n",
              "    fill: var(--button-hover-fill-color);\n",
              "  }\n",
              "\n",
              "  .colab-df-quickchart-complete:disabled,\n",
              "  .colab-df-quickchart-complete:disabled:hover {\n",
              "    background-color: var(--disabled-bg-color);\n",
              "    fill: var(--disabled-fill-color);\n",
              "    box-shadow: none;\n",
              "  }\n",
              "\n",
              "  .colab-df-spinner {\n",
              "    border: 2px solid var(--fill-color);\n",
              "    border-color: transparent;\n",
              "    border-bottom-color: var(--fill-color);\n",
              "    animation:\n",
              "      spin 1s steps(1) infinite;\n",
              "  }\n",
              "\n",
              "  @keyframes spin {\n",
              "    0% {\n",
              "      border-color: transparent;\n",
              "      border-bottom-color: var(--fill-color);\n",
              "      border-left-color: var(--fill-color);\n",
              "    }\n",
              "    20% {\n",
              "      border-color: transparent;\n",
              "      border-left-color: var(--fill-color);\n",
              "      border-top-color: var(--fill-color);\n",
              "    }\n",
              "    30% {\n",
              "      border-color: transparent;\n",
              "      border-left-color: var(--fill-color);\n",
              "      border-top-color: var(--fill-color);\n",
              "      border-right-color: var(--fill-color);\n",
              "    }\n",
              "    40% {\n",
              "      border-color: transparent;\n",
              "      border-right-color: var(--fill-color);\n",
              "      border-top-color: var(--fill-color);\n",
              "    }\n",
              "    60% {\n",
              "      border-color: transparent;\n",
              "      border-right-color: var(--fill-color);\n",
              "    }\n",
              "    80% {\n",
              "      border-color: transparent;\n",
              "      border-right-color: var(--fill-color);\n",
              "      border-bottom-color: var(--fill-color);\n",
              "    }\n",
              "    90% {\n",
              "      border-color: transparent;\n",
              "      border-bottom-color: var(--fill-color);\n",
              "    }\n",
              "  }\n",
              "</style>\n",
              "\n",
              "  <script>\n",
              "    async function quickchart(key) {\n",
              "      const quickchartButtonEl =\n",
              "        document.querySelector('#' + key + ' button');\n",
              "      quickchartButtonEl.disabled = true;  // To prevent multiple clicks.\n",
              "      quickchartButtonEl.classList.add('colab-df-spinner');\n",
              "      try {\n",
              "        const charts = await google.colab.kernel.invokeFunction(\n",
              "            'suggestCharts', [key], {});\n",
              "      } catch (error) {\n",
              "        console.error('Error during call to suggestCharts:', error);\n",
              "      }\n",
              "      quickchartButtonEl.classList.remove('colab-df-spinner');\n",
              "      quickchartButtonEl.classList.add('colab-df-quickchart-complete');\n",
              "    }\n",
              "    (() => {\n",
              "      let quickchartButtonEl =\n",
              "        document.querySelector('#df-ee6ab7f7-6e55-4cbd-acd3-bab2010125cc button');\n",
              "      quickchartButtonEl.style.display =\n",
              "        google.colab.kernel.accessAllowed ? 'block' : 'none';\n",
              "    })();\n",
              "  </script>\n",
              "</div>\n",
              "    </div>\n",
              "  </div>\n"
            ],
            "application/vnd.google.colaboratory.intrinsic+json": {
              "type": "dataframe",
              "variable_name": "data_news",
              "summary": "{\n  \"name\": \"data_news\",\n  \"rows\": 133,\n  \"fields\": [\n    {\n      \"column\": \"Title\",\n      \"properties\": {\n        \"dtype\": \"string\",\n        \"num_unique_values\": 133,\n        \"samples\": [\n          \"Analysis of the Impact of the COVID-19 Pandemic on the Transportation Sector\",\n          \"Logistics Service Innovation for Goods Distribution During Pandemic\",\n          \"The Impact of the COVID-19 Pandemic on the Welfare of Informal Workers\"\n        ],\n        \"semantic_type\": \"\",\n        \"description\": \"\"\n      }\n    },\n    {\n      \"column\": \"Content\",\n      \"properties\": {\n        \"dtype\": \"string\",\n        \"num_unique_values\": 114,\n        \"samples\": [\n          \"The COVID-19 pandemic had far-reaching impacts on the energy and resources sector, affecting demand patterns, supply chains, and investment decisions. Analyzing these impacts is crucial for developing sustainable strategies, promoting energy transition, and ensuring the sector's resilience in the face of future disruptions.\",\n          \"Studies have shown that the approved COVID-19 vaccines are highly effective in preventing severe illness and reducing virus transmission. Vaccination campaigns have been accelerated nationwide to achieve herd immunity and curb the pandemic. However, continued adherence to safety protocols remains crucial even for vaccinated individuals to prevent further outbreaks.\",\n          \"Governments worldwide faced the challenge of optimizing limited health resources to combat the COVID-19 pandemic. Effective strategies involved reallocating funds, mobilizing healthcare professionals, and leveraging private sector support. Prioritizing critical areas and ensuring equitable access to care were crucial in mitigating the health crisis.\"\n        ],\n        \"semantic_type\": \"\",\n        \"description\": \"\"\n      }\n    },\n    {\n      \"column\": \"Source\",\n      \"properties\": {\n        \"dtype\": \"category\",\n        \"num_unique_values\": 7,\n        \"samples\": [\n          \"CNN Indonesia\",\n          \"DetikNews\",\n          \"Kompas TV\"\n        ],\n        \"semantic_type\": \"\",\n        \"description\": \"\"\n      }\n    },\n    {\n      \"column\": \"Label\",\n      \"properties\": {\n        \"dtype\": \"category\",\n        \"num_unique_values\": 2,\n        \"samples\": [\n          \"fake\",\n          \"real\"\n        ],\n        \"semantic_type\": \"\",\n        \"description\": \"\"\n      }\n    }\n  ]\n}"
            }
          },
          "metadata": {},
          "execution_count": 102
        }
      ]
    },
    {
      "cell_type": "markdown",
      "source": [
        "# Cek Missing Value"
      ],
      "metadata": {
        "id": "ucja1fyZjIbr"
      }
    },
    {
      "cell_type": "code",
      "source": [
        "print(data_news.shape) # cek jumlah baris dan kolom\n",
        "print(50*'-')\n",
        "print(data_news.info()) # cek missing value dan tipe data"
      ],
      "metadata": {
        "colab": {
          "base_uri": "https://localhost:8080/"
        },
        "id": "spsmcam9-BXX",
        "outputId": "3bb7943c-0fa2-4589-d49c-64c120b76b58"
      },
      "execution_count": null,
      "outputs": [
        {
          "output_type": "stream",
          "name": "stdout",
          "text": [
            "(133, 4)\n",
            "--------------------------------------------------\n",
            "<class 'pandas.core.frame.DataFrame'>\n",
            "RangeIndex: 133 entries, 0 to 132\n",
            "Data columns (total 4 columns):\n",
            " #   Column   Non-Null Count  Dtype \n",
            "---  ------   --------------  ----- \n",
            " 0   Title    133 non-null    object\n",
            " 1   Content  114 non-null    object\n",
            " 2   Source   133 non-null    object\n",
            " 3   Label    133 non-null    object\n",
            "dtypes: object(4)\n",
            "memory usage: 4.3+ KB\n",
            "None\n"
          ]
        }
      ]
    },
    {
      "cell_type": "code",
      "source": [
        "data_news['Content'] = data_news['Title']+data_news['Content']\n",
        "data_news = data_news.drop(['Source', 'Title'], axis=1)\n",
        "data_news.head()"
      ],
      "metadata": {
        "colab": {
          "base_uri": "https://localhost:8080/",
          "height": 206
        },
        "id": "3gvx2YAQ-DaF",
        "outputId": "1988907c-f140-49e6-eb64-2f75112ee6ee"
      },
      "execution_count": null,
      "outputs": [
        {
          "output_type": "execute_result",
          "data": {
            "text/plain": [
              "                                             Content Label\n",
              "0  Latest Development of COVID-19 Pandemic in Ind...  real\n",
              "1  Measures to Prevent COVID-19 in the Work Envir...  fake\n",
              "2  Psychological Impact of Self-Isolation Due to ...  real\n",
              "3  Economic Recovery Strategy after COVID-19 Pand...  real\n",
              "4  Effectiveness of the COVID-19 Vaccine in Suppr...  real"
            ],
            "text/html": [
              "\n",
              "  <div id=\"df-633cd7ca-cff6-48ae-bde5-8598fc63a600\" class=\"colab-df-container\">\n",
              "    <div>\n",
              "<style scoped>\n",
              "    .dataframe tbody tr th:only-of-type {\n",
              "        vertical-align: middle;\n",
              "    }\n",
              "\n",
              "    .dataframe tbody tr th {\n",
              "        vertical-align: top;\n",
              "    }\n",
              "\n",
              "    .dataframe thead th {\n",
              "        text-align: right;\n",
              "    }\n",
              "</style>\n",
              "<table border=\"1\" class=\"dataframe\">\n",
              "  <thead>\n",
              "    <tr style=\"text-align: right;\">\n",
              "      <th></th>\n",
              "      <th>Content</th>\n",
              "      <th>Label</th>\n",
              "    </tr>\n",
              "  </thead>\n",
              "  <tbody>\n",
              "    <tr>\n",
              "      <th>0</th>\n",
              "      <td>Latest Development of COVID-19 Pandemic in Ind...</td>\n",
              "      <td>real</td>\n",
              "    </tr>\n",
              "    <tr>\n",
              "      <th>1</th>\n",
              "      <td>Measures to Prevent COVID-19 in the Work Envir...</td>\n",
              "      <td>fake</td>\n",
              "    </tr>\n",
              "    <tr>\n",
              "      <th>2</th>\n",
              "      <td>Psychological Impact of Self-Isolation Due to ...</td>\n",
              "      <td>real</td>\n",
              "    </tr>\n",
              "    <tr>\n",
              "      <th>3</th>\n",
              "      <td>Economic Recovery Strategy after COVID-19 Pand...</td>\n",
              "      <td>real</td>\n",
              "    </tr>\n",
              "    <tr>\n",
              "      <th>4</th>\n",
              "      <td>Effectiveness of the COVID-19 Vaccine in Suppr...</td>\n",
              "      <td>real</td>\n",
              "    </tr>\n",
              "  </tbody>\n",
              "</table>\n",
              "</div>\n",
              "    <div class=\"colab-df-buttons\">\n",
              "\n",
              "  <div class=\"colab-df-container\">\n",
              "    <button class=\"colab-df-convert\" onclick=\"convertToInteractive('df-633cd7ca-cff6-48ae-bde5-8598fc63a600')\"\n",
              "            title=\"Convert this dataframe to an interactive table.\"\n",
              "            style=\"display:none;\">\n",
              "\n",
              "  <svg xmlns=\"http://www.w3.org/2000/svg\" height=\"24px\" viewBox=\"0 -960 960 960\">\n",
              "    <path d=\"M120-120v-720h720v720H120Zm60-500h600v-160H180v160Zm220 220h160v-160H400v160Zm0 220h160v-160H400v160ZM180-400h160v-160H180v160Zm440 0h160v-160H620v160ZM180-180h160v-160H180v160Zm440 0h160v-160H620v160Z\"/>\n",
              "  </svg>\n",
              "    </button>\n",
              "\n",
              "  <style>\n",
              "    .colab-df-container {\n",
              "      display:flex;\n",
              "      gap: 12px;\n",
              "    }\n",
              "\n",
              "    .colab-df-convert {\n",
              "      background-color: #E8F0FE;\n",
              "      border: none;\n",
              "      border-radius: 50%;\n",
              "      cursor: pointer;\n",
              "      display: none;\n",
              "      fill: #1967D2;\n",
              "      height: 32px;\n",
              "      padding: 0 0 0 0;\n",
              "      width: 32px;\n",
              "    }\n",
              "\n",
              "    .colab-df-convert:hover {\n",
              "      background-color: #E2EBFA;\n",
              "      box-shadow: 0px 1px 2px rgba(60, 64, 67, 0.3), 0px 1px 3px 1px rgba(60, 64, 67, 0.15);\n",
              "      fill: #174EA6;\n",
              "    }\n",
              "\n",
              "    .colab-df-buttons div {\n",
              "      margin-bottom: 4px;\n",
              "    }\n",
              "\n",
              "    [theme=dark] .colab-df-convert {\n",
              "      background-color: #3B4455;\n",
              "      fill: #D2E3FC;\n",
              "    }\n",
              "\n",
              "    [theme=dark] .colab-df-convert:hover {\n",
              "      background-color: #434B5C;\n",
              "      box-shadow: 0px 1px 3px 1px rgba(0, 0, 0, 0.15);\n",
              "      filter: drop-shadow(0px 1px 2px rgba(0, 0, 0, 0.3));\n",
              "      fill: #FFFFFF;\n",
              "    }\n",
              "  </style>\n",
              "\n",
              "    <script>\n",
              "      const buttonEl =\n",
              "        document.querySelector('#df-633cd7ca-cff6-48ae-bde5-8598fc63a600 button.colab-df-convert');\n",
              "      buttonEl.style.display =\n",
              "        google.colab.kernel.accessAllowed ? 'block' : 'none';\n",
              "\n",
              "      async function convertToInteractive(key) {\n",
              "        const element = document.querySelector('#df-633cd7ca-cff6-48ae-bde5-8598fc63a600');\n",
              "        const dataTable =\n",
              "          await google.colab.kernel.invokeFunction('convertToInteractive',\n",
              "                                                    [key], {});\n",
              "        if (!dataTable) return;\n",
              "\n",
              "        const docLinkHtml = 'Like what you see? Visit the ' +\n",
              "          '<a target=\"_blank\" href=https://colab.research.google.com/notebooks/data_table.ipynb>data table notebook</a>'\n",
              "          + ' to learn more about interactive tables.';\n",
              "        element.innerHTML = '';\n",
              "        dataTable['output_type'] = 'display_data';\n",
              "        await google.colab.output.renderOutput(dataTable, element);\n",
              "        const docLink = document.createElement('div');\n",
              "        docLink.innerHTML = docLinkHtml;\n",
              "        element.appendChild(docLink);\n",
              "      }\n",
              "    </script>\n",
              "  </div>\n",
              "\n",
              "\n",
              "<div id=\"df-3d8521aa-ba84-43a2-ad3a-b84677acbd9c\">\n",
              "  <button class=\"colab-df-quickchart\" onclick=\"quickchart('df-3d8521aa-ba84-43a2-ad3a-b84677acbd9c')\"\n",
              "            title=\"Suggest charts\"\n",
              "            style=\"display:none;\">\n",
              "\n",
              "<svg xmlns=\"http://www.w3.org/2000/svg\" height=\"24px\"viewBox=\"0 0 24 24\"\n",
              "     width=\"24px\">\n",
              "    <g>\n",
              "        <path d=\"M19 3H5c-1.1 0-2 .9-2 2v14c0 1.1.9 2 2 2h14c1.1 0 2-.9 2-2V5c0-1.1-.9-2-2-2zM9 17H7v-7h2v7zm4 0h-2V7h2v10zm4 0h-2v-4h2v4z\"/>\n",
              "    </g>\n",
              "</svg>\n",
              "  </button>\n",
              "\n",
              "<style>\n",
              "  .colab-df-quickchart {\n",
              "      --bg-color: #E8F0FE;\n",
              "      --fill-color: #1967D2;\n",
              "      --hover-bg-color: #E2EBFA;\n",
              "      --hover-fill-color: #174EA6;\n",
              "      --disabled-fill-color: #AAA;\n",
              "      --disabled-bg-color: #DDD;\n",
              "  }\n",
              "\n",
              "  [theme=dark] .colab-df-quickchart {\n",
              "      --bg-color: #3B4455;\n",
              "      --fill-color: #D2E3FC;\n",
              "      --hover-bg-color: #434B5C;\n",
              "      --hover-fill-color: #FFFFFF;\n",
              "      --disabled-bg-color: #3B4455;\n",
              "      --disabled-fill-color: #666;\n",
              "  }\n",
              "\n",
              "  .colab-df-quickchart {\n",
              "    background-color: var(--bg-color);\n",
              "    border: none;\n",
              "    border-radius: 50%;\n",
              "    cursor: pointer;\n",
              "    display: none;\n",
              "    fill: var(--fill-color);\n",
              "    height: 32px;\n",
              "    padding: 0;\n",
              "    width: 32px;\n",
              "  }\n",
              "\n",
              "  .colab-df-quickchart:hover {\n",
              "    background-color: var(--hover-bg-color);\n",
              "    box-shadow: 0 1px 2px rgba(60, 64, 67, 0.3), 0 1px 3px 1px rgba(60, 64, 67, 0.15);\n",
              "    fill: var(--button-hover-fill-color);\n",
              "  }\n",
              "\n",
              "  .colab-df-quickchart-complete:disabled,\n",
              "  .colab-df-quickchart-complete:disabled:hover {\n",
              "    background-color: var(--disabled-bg-color);\n",
              "    fill: var(--disabled-fill-color);\n",
              "    box-shadow: none;\n",
              "  }\n",
              "\n",
              "  .colab-df-spinner {\n",
              "    border: 2px solid var(--fill-color);\n",
              "    border-color: transparent;\n",
              "    border-bottom-color: var(--fill-color);\n",
              "    animation:\n",
              "      spin 1s steps(1) infinite;\n",
              "  }\n",
              "\n",
              "  @keyframes spin {\n",
              "    0% {\n",
              "      border-color: transparent;\n",
              "      border-bottom-color: var(--fill-color);\n",
              "      border-left-color: var(--fill-color);\n",
              "    }\n",
              "    20% {\n",
              "      border-color: transparent;\n",
              "      border-left-color: var(--fill-color);\n",
              "      border-top-color: var(--fill-color);\n",
              "    }\n",
              "    30% {\n",
              "      border-color: transparent;\n",
              "      border-left-color: var(--fill-color);\n",
              "      border-top-color: var(--fill-color);\n",
              "      border-right-color: var(--fill-color);\n",
              "    }\n",
              "    40% {\n",
              "      border-color: transparent;\n",
              "      border-right-color: var(--fill-color);\n",
              "      border-top-color: var(--fill-color);\n",
              "    }\n",
              "    60% {\n",
              "      border-color: transparent;\n",
              "      border-right-color: var(--fill-color);\n",
              "    }\n",
              "    80% {\n",
              "      border-color: transparent;\n",
              "      border-right-color: var(--fill-color);\n",
              "      border-bottom-color: var(--fill-color);\n",
              "    }\n",
              "    90% {\n",
              "      border-color: transparent;\n",
              "      border-bottom-color: var(--fill-color);\n",
              "    }\n",
              "  }\n",
              "</style>\n",
              "\n",
              "  <script>\n",
              "    async function quickchart(key) {\n",
              "      const quickchartButtonEl =\n",
              "        document.querySelector('#' + key + ' button');\n",
              "      quickchartButtonEl.disabled = true;  // To prevent multiple clicks.\n",
              "      quickchartButtonEl.classList.add('colab-df-spinner');\n",
              "      try {\n",
              "        const charts = await google.colab.kernel.invokeFunction(\n",
              "            'suggestCharts', [key], {});\n",
              "      } catch (error) {\n",
              "        console.error('Error during call to suggestCharts:', error);\n",
              "      }\n",
              "      quickchartButtonEl.classList.remove('colab-df-spinner');\n",
              "      quickchartButtonEl.classList.add('colab-df-quickchart-complete');\n",
              "    }\n",
              "    (() => {\n",
              "      let quickchartButtonEl =\n",
              "        document.querySelector('#df-3d8521aa-ba84-43a2-ad3a-b84677acbd9c button');\n",
              "      quickchartButtonEl.style.display =\n",
              "        google.colab.kernel.accessAllowed ? 'block' : 'none';\n",
              "    })();\n",
              "  </script>\n",
              "</div>\n",
              "    </div>\n",
              "  </div>\n"
            ],
            "application/vnd.google.colaboratory.intrinsic+json": {
              "type": "dataframe",
              "variable_name": "data_news",
              "summary": "{\n  \"name\": \"data_news\",\n  \"rows\": 133,\n  \"fields\": [\n    {\n      \"column\": \"Content\",\n      \"properties\": {\n        \"dtype\": \"string\",\n        \"num_unique_values\": 114,\n        \"samples\": [\n          \"Analysis of the Impact of the COVID-19 Pandemic on the Energy and Resources SectorThe COVID-19 pandemic had far-reaching impacts on the energy and resources sector, affecting demand patterns, supply chains, and investment decisions. Analyzing these impacts is crucial for developing sustainable strategies, promoting energy transition, and ensuring the sector's resilience in the face of future disruptions.\",\n          \"Effectiveness of the COVID-19 Vaccine in Suppressing the Spread of the VirusStudies have shown that the approved COVID-19 vaccines are highly effective in preventing severe illness and reducing virus transmission. Vaccination campaigns have been accelerated nationwide to achieve herd immunity and curb the pandemic. However, continued adherence to safety protocols remains crucial even for vaccinated individuals to prevent further outbreaks.\",\n          \"Government Strategies in Optimizing Health ResourcesGovernments worldwide faced the challenge of optimizing limited health resources to combat the COVID-19 pandemic. Effective strategies involved reallocating funds, mobilizing healthcare professionals, and leveraging private sector support. Prioritizing critical areas and ensuring equitable access to care were crucial in mitigating the health crisis.\"\n        ],\n        \"semantic_type\": \"\",\n        \"description\": \"\"\n      }\n    },\n    {\n      \"column\": \"Label\",\n      \"properties\": {\n        \"dtype\": \"category\",\n        \"num_unique_values\": 2,\n        \"samples\": [\n          \"fake\",\n          \"real\"\n        ],\n        \"semantic_type\": \"\",\n        \"description\": \"\"\n      }\n    }\n  ]\n}"
            }
          },
          "metadata": {},
          "execution_count": 104
        }
      ]
    },
    {
      "cell_type": "code",
      "source": [
        "data_news.isna().sum()"
      ],
      "metadata": {
        "colab": {
          "base_uri": "https://localhost:8080/"
        },
        "id": "hItxERlA-Qy8",
        "outputId": "660f3417-fc95-4f5a-9672-b2ba0663030d"
      },
      "execution_count": null,
      "outputs": [
        {
          "output_type": "execute_result",
          "data": {
            "text/plain": [
              "Content    19\n",
              "Label       0\n",
              "dtype: int64"
            ]
          },
          "metadata": {},
          "execution_count": 105
        }
      ]
    },
    {
      "cell_type": "code",
      "source": [
        "data_news.dropna(inplace=True) #kode untuk menghapus baris yang mengandung nilai yang hilang (NaN) dari dataframe"
      ],
      "metadata": {
        "id": "SyuG56ji-XMz"
      },
      "execution_count": null,
      "outputs": []
    },
    {
      "cell_type": "code",
      "source": [
        "data_news.isna().sum() # cek missing value lagi"
      ],
      "metadata": {
        "colab": {
          "base_uri": "https://localhost:8080/"
        },
        "id": "GrZ0g25x-bxt",
        "outputId": "3ba85a80-2a15-4bf1-fa84-366a29652c49"
      },
      "execution_count": null,
      "outputs": [
        {
          "output_type": "execute_result",
          "data": {
            "text/plain": [
              "Content    0\n",
              "Label      0\n",
              "dtype: int64"
            ]
          },
          "metadata": {},
          "execution_count": 107
        }
      ]
    },
    {
      "cell_type": "markdown",
      "source": [
        "# Visualization"
      ],
      "metadata": {
        "id": "5Cc-Y01Wi9aA"
      }
    },
    {
      "cell_type": "code",
      "source": [
        "data_news.shape # cek ulang jumlah baris dan kolom yang telah digabung dan dihapus missing value"
      ],
      "metadata": {
        "colab": {
          "base_uri": "https://localhost:8080/"
        },
        "id": "zsQX0oAP-enJ",
        "outputId": "8d602214-95a1-49dc-f1e5-e3457d839df9"
      },
      "execution_count": null,
      "outputs": [
        {
          "output_type": "execute_result",
          "data": {
            "text/plain": [
              "(114, 2)"
            ]
          },
          "metadata": {},
          "execution_count": 108
        }
      ]
    },
    {
      "cell_type": "code",
      "source": [
        "data_news.dtypes # menampilkan tipe data dari setiap kolom"
      ],
      "metadata": {
        "colab": {
          "base_uri": "https://localhost:8080/"
        },
        "id": "DZIJ1zLK-ihL",
        "outputId": "0536952d-c43e-4639-ffa7-8c8bb9cff1fc"
      },
      "execution_count": null,
      "outputs": [
        {
          "output_type": "execute_result",
          "data": {
            "text/plain": [
              "Content    object\n",
              "Label      object\n",
              "dtype: object"
            ]
          },
          "metadata": {},
          "execution_count": 109
        }
      ]
    },
    {
      "cell_type": "code",
      "source": [
        "data_news[\"Label\"].value_counts() # menghitung jumlah label real dan fake"
      ],
      "metadata": {
        "colab": {
          "base_uri": "https://localhost:8080/"
        },
        "id": "eaYoaYb8-mPN",
        "outputId": "663cbf0f-8291-4344-aa10-b62284ec6100"
      },
      "execution_count": null,
      "outputs": [
        {
          "output_type": "execute_result",
          "data": {
            "text/plain": [
              "Label\n",
              "real    76\n",
              "fake    38\n",
              "Name: count, dtype: int64"
            ]
          },
          "metadata": {},
          "execution_count": 110
        }
      ]
    },
    {
      "cell_type": "code",
      "source": [
        "name_var = data_news['Label'].value_counts().index # membaca jumlah nilai yang ada didalam label dan merubahnya menjadi bentuk index (Memudahkan untuk mengelompokkan)\n",
        "print(name_var)"
      ],
      "metadata": {
        "colab": {
          "base_uri": "https://localhost:8080/"
        },
        "id": "fyWOg0iW-sjY",
        "outputId": "56537f06-5778-4b8d-d8e3-697b4b0200ad"
      },
      "execution_count": null,
      "outputs": [
        {
          "output_type": "stream",
          "name": "stdout",
          "text": [
            "Index(['real', 'fake'], dtype='object', name='Label')\n"
          ]
        }
      ]
    },
    {
      "cell_type": "code",
      "source": [
        "count_var = data_news['Label'].value_counts()\n",
        "\n",
        "plt.bar(name_var,count_var, label = name_var, color = ('red','blue'))\n",
        "\n",
        "for i, value in enumerate(count_var):\n",
        "    plt.text(i, value, str(value), ha='center', va='bottom')\n",
        "\n",
        "plt.xlabel('Variable')\n",
        "plt.ylabel('Count')\n",
        "plt.legend()\n",
        "plt.show()"
      ],
      "metadata": {
        "colab": {
          "base_uri": "https://localhost:8080/",
          "height": 449
        },
        "id": "1oiNgDyQ-x7i",
        "outputId": "feb64f14-0115-45f0-da9e-51bc43cf72ed"
      },
      "execution_count": null,
      "outputs": [
        {
          "output_type": "display_data",
          "data": {
            "text/plain": [
              "<Figure size 640x480 with 1 Axes>"
            ],
            "image/png": "[encoded data removed]"
          },
          "metadata": {}
        }
      ]
    },
    {
      "cell_type": "markdown",
      "source": [
        "# Cleaning Text"
      ],
      "metadata": {
        "id": "hR31d5Wpi0tP"
      }
    },
    {
      "cell_type": "code",
      "source": [
        "# regular expression\n",
        "def clean_data(news):\n",
        "    punc = set(string.punctuation)\n",
        "    news = ''.join(ch for ch in news if ch not in punc)\n",
        "    return news\n",
        "\n",
        "    news = news.lower()\n",
        "    news = str(text).lower()\n",
        "    news = re.sub('\\[.*?\\]', '', news)\n",
        "    news = re.sub('https?://\\S+|www\\.\\S+', '', news)\n",
        "    news = re.sub('<.*?>+', '', news)\n",
        "    news = re.sub('[%s]' % re.escape(string.punctuation), '', news)\n",
        "    news = re.sub('\\n', '', news)\n",
        "    news = re.sub('\\w*\\d\\w*', '', news)\n",
        "    news = re.sub('Reuters','',news)\n",
        "    news = re.sub(r\"\\d+\", \"\", news)\n",
        "\n",
        "data_news['Content'] = data_news['Content'].apply(lambda x: clean_data(x))\n",
        "data_news['Content']"
      ],
      "metadata": {
        "colab": {
          "base_uri": "https://localhost:8080/"
        },
        "id": "_ag2Wtad-2fb",
        "outputId": "4a73e237-cdb1-42cd-b0a0-2af86fdd9ca9"
      },
      "execution_count": null,
      "outputs": [
        {
          "output_type": "execute_result",
          "data": {
            "text/plain": [
              "0      Latest Development of COVID19 Pandemic in Indo...\n",
              "1      Measures to Prevent COVID19 in the Work Enviro...\n",
              "2      Psychological Impact of SelfIsolation Due to C...\n",
              "3      Economic Recovery Strategy after COVID19 Pande...\n",
              "4      Effectiveness of the COVID19 Vaccine in Suppre...\n",
              "                             ...                        \n",
              "109    The Role of the Private Sector in Supporting L...\n",
              "110    Analysis of the Impact of the COVID19 Pandemic...\n",
              "111    Optimizing the Role of the Disability Communit...\n",
              "112    The Impact of the COVID19 Pandemic on Changes ...\n",
              "113    TechnologyBased Health Service Innovation to I...\n",
              "Name: Content, Length: 114, dtype: object"
            ]
          },
          "metadata": {},
          "execution_count": 113
        }
      ]
    },
    {
      "cell_type": "code",
      "source": [
        "nltk.download('stopwords')\n",
        "nltk.download('punkt')\n",
        "\n",
        "# initialize SnowballStemmer\n",
        "stemmer = SnowballStemmer('english')\n",
        "\n",
        "# Stemming adalah proses mengubah kata-kata menjadi bentuk dasarnya\n",
        "def stem_text(text):\n",
        "    # Tokenisasi teks input an menjadi kata-kata individual\n",
        "    tokens = nltk.word_tokenize(text)\n",
        "\n",
        "    # Stem setiap token menggunakan SnowballStemmer\n",
        "    stemmed_tokens = [stemmer.stem(token) for token in tokens]\n",
        "\n",
        "    # Gabungkan stemmed tokens kembali menjadi single string\n",
        "    return ' '.join(stemmed_tokens)\n",
        "\n",
        "# Terapkan stemming ke text data\n",
        "data_news['Content']=data_news['Content'].apply(stem_text)\n",
        "\n",
        "data_news.head()"
      ],
      "metadata": {
        "colab": {
          "base_uri": "https://localhost:8080/",
          "height": 275
        },
        "id": "A4tWVmvc-9k5",
        "outputId": "68835c0c-1d71-4954-d113-ad4bab18b2f3"
      },
      "execution_count": null,
      "outputs": [
        {
          "output_type": "stream",
          "name": "stderr",
          "text": [
            "[nltk_data] Downloading package stopwords to /root/nltk_data...\n",
            "[nltk_data]   Package stopwords is already up-to-date!\n",
            "[nltk_data] Downloading package punkt to /root/nltk_data...\n",
            "[nltk_data]   Package punkt is already up-to-date!\n"
          ]
        },
        {
          "output_type": "execute_result",
          "data": {
            "text/plain": [
              "                                             Content Label\n",
              "0  latest develop of covid19 pandem in indonesiac...  real\n",
              "1  measur to prevent covid19 in the work environm...  fake\n",
              "2  psycholog impact of selfisol due to covid19sel...  real\n",
              "3  econom recoveri strategi after covid19 pandemi...  real\n",
              "4  effect of the covid19 vaccin in suppress the s...  real"
            ],
            "text/html": [
              "\n",
              "  <div id=\"df-20f59f5a-72ed-4915-b001-1355998c5899\" class=\"colab-df-container\">\n",
              "    <div>\n",
              "<style scoped>\n",
              "    .dataframe tbody tr th:only-of-type {\n",
              "        vertical-align: middle;\n",
              "    }\n",
              "\n",
              "    .dataframe tbody tr th {\n",
              "        vertical-align: top;\n",
              "    }\n",
              "\n",
              "    .dataframe thead th {\n",
              "        text-align: right;\n",
              "    }\n",
              "</style>\n",
              "<table border=\"1\" class=\"dataframe\">\n",
              "  <thead>\n",
              "    <tr style=\"text-align: right;\">\n",
              "      <th></th>\n",
              "      <th>Content</th>\n",
              "      <th>Label</th>\n",
              "    </tr>\n",
              "  </thead>\n",
              "  <tbody>\n",
              "    <tr>\n",
              "      <th>0</th>\n",
              "      <td>latest develop of covid19 pandem in indonesiac...</td>\n",
              "      <td>real</td>\n",
              "    </tr>\n",
              "    <tr>\n",
              "      <th>1</th>\n",
              "      <td>measur to prevent covid19 in the work environm...</td>\n",
              "      <td>fake</td>\n",
              "    </tr>\n",
              "    <tr>\n",
              "      <th>2</th>\n",
              "      <td>psycholog impact of selfisol due to covid19sel...</td>\n",
              "      <td>real</td>\n",
              "    </tr>\n",
              "    <tr>\n",
              "      <th>3</th>\n",
              "      <td>econom recoveri strategi after covid19 pandemi...</td>\n",
              "      <td>real</td>\n",
              "    </tr>\n",
              "    <tr>\n",
              "      <th>4</th>\n",
              "      <td>effect of the covid19 vaccin in suppress the s...</td>\n",
              "      <td>real</td>\n",
              "    </tr>\n",
              "  </tbody>\n",
              "</table>\n",
              "</div>\n",
              "    <div class=\"colab-df-buttons\">\n",
              "\n",
              "  <div class=\"colab-df-container\">\n",
              "    <button class=\"colab-df-convert\" onclick=\"convertToInteractive('df-20f59f5a-72ed-4915-b001-1355998c5899')\"\n",
              "            title=\"Convert this dataframe to an interactive table.\"\n",
              "            style=\"display:none;\">\n",
              "\n",
              "  <svg xmlns=\"http://www.w3.org/2000/svg\" height=\"24px\" viewBox=\"0 -960 960 960\">\n",
              "    <path d=\"M120-120v-720h720v720H120Zm60-500h600v-160H180v160Zm220 220h160v-160H400v160Zm0 220h160v-160H400v160ZM180-400h160v-160H180v160Zm440 0h160v-160H620v160ZM180-180h160v-160H180v160Zm440 0h160v-160H620v160Z\"/>\n",
              "  </svg>\n",
              "    </button>\n",
              "\n",
              "  <style>\n",
              "    .colab-df-container {\n",
              "      display:flex;\n",
              "      gap: 12px;\n",
              "    }\n",
              "\n",
              "    .colab-df-convert {\n",
              "      background-color: #E8F0FE;\n",
              "      border: none;\n",
              "      border-radius: 50%;\n",
              "      cursor: pointer;\n",
              "      display: none;\n",
              "      fill: #1967D2;\n",
              "      height: 32px;\n",
              "      padding: 0 0 0 0;\n",
              "      width: 32px;\n",
              "    }\n",
              "\n",
              "    .colab-df-convert:hover {\n",
              "      background-color: #E2EBFA;\n",
              "      box-shadow: 0px 1px 2px rgba(60, 64, 67, 0.3), 0px 1px 3px 1px rgba(60, 64, 67, 0.15);\n",
              "      fill: #174EA6;\n",
              "    }\n",
              "\n",
              "    .colab-df-buttons div {\n",
              "      margin-bottom: 4px;\n",
              "    }\n",
              "\n",
              "    [theme=dark] .colab-df-convert {\n",
              "      background-color: #3B4455;\n",
              "      fill: #D2E3FC;\n",
              "    }\n",
              "\n",
              "    [theme=dark] .colab-df-convert:hover {\n",
              "      background-color: #434B5C;\n",
              "      box-shadow: 0px 1px 3px 1px rgba(0, 0, 0, 0.15);\n",
              "      filter: drop-shadow(0px 1px 2px rgba(0, 0, 0, 0.3));\n",
              "      fill: #FFFFFF;\n",
              "    }\n",
              "  </style>\n",
              "\n",
              "    <script>\n",
              "      const buttonEl =\n",
              "        document.querySelector('#df-20f59f5a-72ed-4915-b001-1355998c5899 button.colab-df-convert');\n",
              "      buttonEl.style.display =\n",
              "        google.colab.kernel.accessAllowed ? 'block' : 'none';\n",
              "\n",
              "      async function convertToInteractive(key) {\n",
              "        const element = document.querySelector('#df-20f59f5a-72ed-4915-b001-1355998c5899');\n",
              "        const dataTable =\n",
              "          await google.colab.kernel.invokeFunction('convertToInteractive',\n",
              "                                                    [key], {});\n",
              "        if (!dataTable) return;\n",
              "\n",
              "        const docLinkHtml = 'Like what you see? Visit the ' +\n",
              "          '<a target=\"_blank\" href=https://colab.research.google.com/notebooks/data_table.ipynb>data table notebook</a>'\n",
              "          + ' to learn more about interactive tables.';\n",
              "        element.innerHTML = '';\n",
              "        dataTable['output_type'] = 'display_data';\n",
              "        await google.colab.output.renderOutput(dataTable, element);\n",
              "        const docLink = document.createElement('div');\n",
              "        docLink.innerHTML = docLinkHtml;\n",
              "        element.appendChild(docLink);\n",
              "      }\n",
              "    </script>\n",
              "  </div>\n",
              "\n",
              "\n",
              "<div id=\"df-7bca52e5-f97f-4716-93a0-2f4ef90c87dd\">\n",
              "  <button class=\"colab-df-quickchart\" onclick=\"quickchart('df-7bca52e5-f97f-4716-93a0-2f4ef90c87dd')\"\n",
              "            title=\"Suggest charts\"\n",
              "            style=\"display:none;\">\n",
              "\n",
              "<svg xmlns=\"http://www.w3.org/2000/svg\" height=\"24px\"viewBox=\"0 0 24 24\"\n",
              "     width=\"24px\">\n",
              "    <g>\n",
              "        <path d=\"M19 3H5c-1.1 0-2 .9-2 2v14c0 1.1.9 2 2 2h14c1.1 0 2-.9 2-2V5c0-1.1-.9-2-2-2zM9 17H7v-7h2v7zm4 0h-2V7h2v10zm4 0h-2v-4h2v4z\"/>\n",
              "    </g>\n",
              "</svg>\n",
              "  </button>\n",
              "\n",
              "<style>\n",
              "  .colab-df-quickchart {\n",
              "      --bg-color: #E8F0FE;\n",
              "      --fill-color: #1967D2;\n",
              "      --hover-bg-color: #E2EBFA;\n",
              "      --hover-fill-color: #174EA6;\n",
              "      --disabled-fill-color: #AAA;\n",
              "      --disabled-bg-color: #DDD;\n",
              "  }\n",
              "\n",
              "  [theme=dark] .colab-df-quickchart {\n",
              "      --bg-color: #3B4455;\n",
              "      --fill-color: #D2E3FC;\n",
              "      --hover-bg-color: #434B5C;\n",
              "      --hover-fill-color: #FFFFFF;\n",
              "      --disabled-bg-color: #3B4455;\n",
              "      --disabled-fill-color: #666;\n",
              "  }\n",
              "\n",
              "  .colab-df-quickchart {\n",
              "    background-color: var(--bg-color);\n",
              "    border: none;\n",
              "    border-radius: 50%;\n",
              "    cursor: pointer;\n",
              "    display: none;\n",
              "    fill: var(--fill-color);\n",
              "    height: 32px;\n",
              "    padding: 0;\n",
              "    width: 32px;\n",
              "  }\n",
              "\n",
              "  .colab-df-quickchart:hover {\n",
              "    background-color: var(--hover-bg-color);\n",
              "    box-shadow: 0 1px 2px rgba(60, 64, 67, 0.3), 0 1px 3px 1px rgba(60, 64, 67, 0.15);\n",
              "    fill: var(--button-hover-fill-color);\n",
              "  }\n",
              "\n",
              "  .colab-df-quickchart-complete:disabled,\n",
              "  .colab-df-quickchart-complete:disabled:hover {\n",
              "    background-color: var(--disabled-bg-color);\n",
              "    fill: var(--disabled-fill-color);\n",
              "    box-shadow: none;\n",
              "  }\n",
              "\n",
              "  .colab-df-spinner {\n",
              "    border: 2px solid var(--fill-color);\n",
              "    border-color: transparent;\n",
              "    border-bottom-color: var(--fill-color);\n",
              "    animation:\n",
              "      spin 1s steps(1) infinite;\n",
              "  }\n",
              "\n",
              "  @keyframes spin {\n",
              "    0% {\n",
              "      border-color: transparent;\n",
              "      border-bottom-color: var(--fill-color);\n",
              "      border-left-color: var(--fill-color);\n",
              "    }\n",
              "    20% {\n",
              "      border-color: transparent;\n",
              "      border-left-color: var(--fill-color);\n",
              "      border-top-color: var(--fill-color);\n",
              "    }\n",
              "    30% {\n",
              "      border-color: transparent;\n",
              "      border-left-color: var(--fill-color);\n",
              "      border-top-color: var(--fill-color);\n",
              "      border-right-color: var(--fill-color);\n",
              "    }\n",
              "    40% {\n",
              "      border-color: transparent;\n",
              "      border-right-color: var(--fill-color);\n",
              "      border-top-color: var(--fill-color);\n",
              "    }\n",
              "    60% {\n",
              "      border-color: transparent;\n",
              "      border-right-color: var(--fill-color);\n",
              "    }\n",
              "    80% {\n",
              "      border-color: transparent;\n",
              "      border-right-color: var(--fill-color);\n",
              "      border-bottom-color: var(--fill-color);\n",
              "    }\n",
              "    90% {\n",
              "      border-color: transparent;\n",
              "      border-bottom-color: var(--fill-color);\n",
              "    }\n",
              "  }\n",
              "</style>\n",
              "\n",
              "  <script>\n",
              "    async function quickchart(key) {\n",
              "      const quickchartButtonEl =\n",
              "        document.querySelector('#' + key + ' button');\n",
              "      quickchartButtonEl.disabled = true;  // To prevent multiple clicks.\n",
              "      quickchartButtonEl.classList.add('colab-df-spinner');\n",
              "      try {\n",
              "        const charts = await google.colab.kernel.invokeFunction(\n",
              "            'suggestCharts', [key], {});\n",
              "      } catch (error) {\n",
              "        console.error('Error during call to suggestCharts:', error);\n",
              "      }\n",
              "      quickchartButtonEl.classList.remove('colab-df-spinner');\n",
              "      quickchartButtonEl.classList.add('colab-df-quickchart-complete');\n",
              "    }\n",
              "    (() => {\n",
              "      let quickchartButtonEl =\n",
              "        document.querySelector('#df-7bca52e5-f97f-4716-93a0-2f4ef90c87dd button');\n",
              "      quickchartButtonEl.style.display =\n",
              "        google.colab.kernel.accessAllowed ? 'block' : 'none';\n",
              "    })();\n",
              "  </script>\n",
              "</div>\n",
              "    </div>\n",
              "  </div>\n"
            ],
            "application/vnd.google.colaboratory.intrinsic+json": {
              "type": "dataframe",
              "variable_name": "data_news",
              "summary": "{\n  \"name\": \"data_news\",\n  \"rows\": 114,\n  \"fields\": [\n    {\n      \"column\": \"Content\",\n      \"properties\": {\n        \"dtype\": \"string\",\n        \"num_unique_values\": 114,\n        \"samples\": [\n          \"analysi of the impact of the covid19 pandem on the energi and resourc sectorth covid19 pandem had farreach impact on the energi and resourc sector affect demand pattern suppli chain and invest decis analyz these impact is crucial for develop sustain strategi promot energi transit and ensur the sector resili in the face of futur disrupt\",\n          \"effect of the covid19 vaccin in suppress the spread of the virusstudi have shown that the approv covid19 vaccin are high effect in prevent sever ill and reduc virus transmiss vaccin campaign have been acceler nationwid to achiev herd immun and curb the pandem howev continu adher to safeti protocol remain crucial even for vaccin individu to prevent further outbreak\",\n          \"govern strategi in optim health resourcesgovern worldwid face the challeng of optim limit health resourc to combat the covid19 pandem effect strategi involv realloc fund mobil healthcar profession and leverag privat sector support priorit critic area and ensur equit access to care were crucial in mitig the health crisi\"\n        ],\n        \"semantic_type\": \"\",\n        \"description\": \"\"\n      }\n    },\n    {\n      \"column\": \"Label\",\n      \"properties\": {\n        \"dtype\": \"category\",\n        \"num_unique_values\": 2,\n        \"samples\": [\n          \"fake\",\n          \"real\"\n        ],\n        \"semantic_type\": \"\",\n        \"description\": \"\"\n      }\n    }\n  ]\n}"
            }
          },
          "metadata": {},
          "execution_count": 114
        }
      ]
    },
    {
      "cell_type": "markdown",
      "source": [
        "# TFIDF & Training Split Data"
      ],
      "metadata": {
        "id": "77HVr_oajU8l"
      }
    },
    {
      "cell_type": "code",
      "source": [
        "X = data_news['Content']\n",
        "y = data_news['Label']\n",
        "\n",
        "# test_size = menentukan bahwa data testing akan menjadi 20% dari seluruh dataset, sedangkan data training akan menjadi 75%\n",
        "X_train, X_test, y_train, y_test = train_test_split(X, y, test_size=0.20, random_state=42)\n",
        "\n",
        "tfidf_vectorizer = TfidfVectorizer(stop_words='english', max_df=0.8, min_df=5) # mengubah koleksi dokumen teks menjadi matriks fitur TF-IDF\n",
        "tfidf_train = tfidf_vectorizer.fit_transform(X_train) # Ini akan menghitung TF-IDF untuk setiap kata dalam X_train, yang merupakan data teks pelatihan.\n",
        "tfidf_test = tfidf_vectorizer.transform(X_test) #  Ini akan menggunakan vektorizer yang sama yang sudah dipelajari dari data pelatihan (X_train) untuk menghitung vektor TF-IDF untuk data uji (X_test).\n",
        "                                              #Ini penting karena kita ingin menggunakan kosakata yang sama untuk data pelatihan dan uji agar hasilnya konsisten."
      ],
      "metadata": {
        "id": "cPVUEpM8_HCY"
      },
      "execution_count": null,
      "outputs": []
    },
    {
      "cell_type": "markdown",
      "source": [
        "# Handling Class Imbalance"
      ],
      "metadata": {
        "id": "Xabr-ohY63fw"
      }
    },
    {
      "cell_type": "code",
      "source": [
        "from imblearn.over_sampling import SMOTE\n",
        "\n",
        "smote = SMOTE()\n",
        "X_train_smote, y_train_smote = smote.fit_resample(tfidf_train, y_train)\n",
        "\n",
        "# Buat DataFrame baru\n",
        "os = pd.DataFrame(list(zip([x[0] for x in X_train_smote], y_train_smote)), columns=['Content', 'Label'])\n",
        "\n",
        "# Tampilkan distribusi kelas setelah penerapan SMOTE\n",
        "os['Label'].value_counts()\n"
      ],
      "metadata": {
        "colab": {
          "base_uri": "https://localhost:8080/"
        },
        "id": "CZpF1Qdn3sSB",
        "outputId": "e8a44bb6-9325-4d78-f8f5-036caaec4b1c"
      },
      "execution_count": null,
      "outputs": [
        {
          "output_type": "execute_result",
          "data": {
            "text/plain": [
              "Label\n",
              "real    58\n",
              "fake    58\n",
              "Name: count, dtype: int64"
            ]
          },
          "metadata": {},
          "execution_count": 116
        }
      ]
    },
    {
      "cell_type": "code",
      "source": [
        "def create_distribution(dataFile):\n",
        "    return sns.countplot(x='Label', data=dataFile, palette=['red', 'blue'])\n",
        "\n",
        "create_distribution(os)\n",
        "\n",
        "os['Label'].value_counts()"
      ],
      "metadata": {
        "colab": {
          "base_uri": "https://localhost:8080/",
          "height": 518
        },
        "id": "EtzNoLfv3vKl",
        "outputId": "f9a792ec-e501-40bc-f6f0-f0d11780d0ec"
      },
      "execution_count": null,
      "outputs": [
        {
          "output_type": "execute_result",
          "data": {
            "text/plain": [
              "Label\n",
              "real    58\n",
              "fake    58\n",
              "Name: count, dtype: int64"
            ]
          },
          "metadata": {},
          "execution_count": 117
        },
        {
          "output_type": "display_data",
          "data": {
            "text/plain": [
              "<Figure size 640x480 with 1 Axes>"
            ],
            "image/png": "[encoded data removed]"
          },
          "metadata": {}
        }
      ]
    },
    {
      "cell_type": "markdown",
      "source": [
        "# Metode"
      ],
      "metadata": {
        "id": "8HslQf27ByYV"
      }
    },
    {
      "cell_type": "markdown",
      "source": [
        "# Logistic Regression"
      ],
      "metadata": {
        "id": "YwiJ45cX3owk"
      }
    },
    {
      "cell_type": "code",
      "source": [
        "from sklearn.linear_model import LogisticRegression\n",
        "# Model Logistic Regression\n",
        "lr = LogisticRegression(random_state=42, max_iter=100)\n",
        "lr.fit(tfidf_train, y_train) # # Melatih model klasifikasi  Passive Aggresive menggunakan data training\n",
        "\n",
        "# Evaluasi\n",
        "pred_LogisticRegression = lr.predict(tfidf_test) # # Memprediksi label kelas untuk data testing menggunakan model yang sudah dilatih.\n",
        "print(classification_report(y_test, pred_LogisticRegression, target_names=['Fake', 'True']))"
      ],
      "metadata": {
        "colab": {
          "base_uri": "https://localhost:8080/"
        },
        "id": "jUdP7F0jAYdF",
        "outputId": "fabe1726-a2e6-4cf8-b654-092ce98b0baa"
      },
      "execution_count": null,
      "outputs": [
        {
          "output_type": "stream",
          "name": "stdout",
          "text": [
            "              precision    recall  f1-score   support\n",
            "\n",
            "        Fake       1.00      0.20      0.33         5\n",
            "        True       0.82      1.00      0.90        18\n",
            "\n",
            "    accuracy                           0.83        23\n",
            "   macro avg       0.91      0.60      0.62        23\n",
            "weighted avg       0.86      0.83      0.78        23\n",
            "\n"
          ]
        }
      ]
    },
    {
      "cell_type": "code",
      "source": [
        "accuracy = accuracy_score(y_test,pred_LogisticRegression)\n",
        "print(\"Accuracy Logistic Regression Classifier:\", accuracy)"
      ],
      "metadata": {
        "colab": {
          "base_uri": "https://localhost:8080/"
        },
        "id": "OA-NE0_-IxuC",
        "outputId": "c80ef73e-58a5-4d13-bfda-1f3e17407698"
      },
      "execution_count": null,
      "outputs": [
        {
          "output_type": "stream",
          "name": "stdout",
          "text": [
            "Accuracy Logistic Regression Classifier: 0.8260869565217391\n"
          ]
        }
      ]
    },
    {
      "cell_type": "code",
      "source": [
        "from sklearn.metrics import confusion_matrix\n",
        "import matplotlib.pyplot as plt\n",
        "import seaborn as sns\n",
        "\n",
        "# Confusion matrix untuk Logistic Regression\n",
        "cm_lr = confusion_matrix(y_test, pred_LogisticRegression)\n",
        "\n",
        "# Membuat heatmap\n",
        "sns.heatmap(cm_lr, annot=True, fmt='d', cmap='Blues')\n",
        "\n",
        "# Mengatur label sumbu x dan y\n",
        "plt.xlabel('Predicted Label')\n",
        "plt.ylabel('True Label')\n",
        "plt.title('Confusion Matrix Logistic Regression')\n",
        "plt.xticks(ticks=[0.5, 1.5], labels=['Fake', 'Real'])\n",
        "plt.yticks(ticks=[0.5, 1.5], labels=['Fake', 'Real'])\n",
        "\n",
        "plt.show()\n"
      ],
      "metadata": {
        "colab": {
          "base_uri": "https://localhost:8080/",
          "height": 472
        },
        "id": "SFq_Yg133sfW",
        "outputId": "2ab39cbb-dbd7-4292-cb28-0bdf0eb29150"
      },
      "execution_count": null,
      "outputs": [
        {
          "output_type": "display_data",
          "data": {
            "text/plain": [
              "<Figure size 640x480 with 2 Axes>"
            ],
            "image/png": "[encoded data removed]"
          },
          "metadata": {}
        }
      ]
    }
  ]
}